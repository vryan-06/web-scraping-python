{
 "cells": [
  {
   "cell_type": "code",
   "execution_count": 12,
   "metadata": {},
   "outputs": [],
   "source": [
    "from bs4 import BeautifulSoup\n",
    "import requests\n",
    "import smtplib\n",
    "import time\n",
    "import datetime\n",
    "import csv\n",
    "import re"
   ]
  },
  {
   "cell_type": "code",
   "execution_count": 2,
   "metadata": {},
   "outputs": [],
   "source": [
    "# Connecting to website\n",
    "\n",
    "URL = \"https://www.amazon.in/Kenneth-Cole-Analog-Gray-Watch-KCWGO2218502MN/dp/B0B2PMP6KC/ref=sr_1_11?crid=1F69AAN0LODQA&keywords=kenneth+cole+watches+for+men&qid=1685097263&sprefix=kenneth+colewatches+for+men%2Caps%2C243&sr=8-11\"\n",
    "\n",
    "headers = {\n",
    "    \"User-Agent\": \"Mozilla/5.0 (Windows NT 10.0; Win64; x64) AppleWebKit/537.36 (KHTML, like Gecko) Chrome/113.0.0.0 Safari/537.36\",\n",
    "}"
   ]
  },
  {
   "cell_type": "code",
   "execution_count": 3,
   "metadata": {},
   "outputs": [],
   "source": [
    "# header = ['Date','Title', 'Price']\n",
    "# # date, title, price = check_price(URL)\n",
    "\n",
    "# # data = [date ,title, price]\n",
    "# # print(data)\n",
    "\n",
    "# with open(\"AWSdataset.csv\", 'w', newline=\"\", encoding=\"UTF8\") as f:\n",
    "#     writer = csv.writer(f)\n",
    "#     writer.writerow(header)\n",
    "#     # writer.writerow(data)"
   ]
  },
  {
   "cell_type": "code",
   "execution_count": 4,
   "metadata": {},
   "outputs": [],
   "source": [
    "def check_price(URL):\n",
    "    page = requests.get(URL, headers=headers)\n",
    "    soup1 = BeautifulSoup(page.content, \"html.parser\")\n",
    "    # print(soup1)\n",
    "    soup2 = BeautifulSoup(soup1.prettify(), \"html.parser\")\n",
    "    # print(soup2)\n",
    "\n",
    "    # Getting the title\n",
    "    title = soup2.find(id=\"productTitle\").get_text().strip()\n",
    "    print(title)\n",
    "    # Getting the price\n",
    "    price = soup2.find(class_=\"a-price-whole\").text.strip()\n",
    "    print(price)\n",
    "\n",
    "    today = datetime.date.today()\n",
    "    with open(\"AWSdataset.csv\", 'a+', newline=\"\", encoding=\"UTF8\") as f:\n",
    "        data = [today ,title, price]\n",
    "        writer = csv.writer(f)\n",
    "        writer.writerow(data)\n",
    "    return price"
   ]
  },
  {
   "cell_type": "code",
   "execution_count": 5,
   "metadata": {},
   "outputs": [],
   "source": [
    "new_price=0"
   ]
  },
  {
   "cell_type": "code",
   "execution_count": 17,
   "metadata": {},
   "outputs": [],
   "source": [
    "def send_mail():\n",
    "    server = smtplib.SMTP_SSL('smtp.gmail.com',465)\n",
    "    server.ehlo()\n",
    "    server.ehlo()\n",
    "    server.login('some@gmail.com','something')\n",
    "    \n",
    "    subject = \"Watch Price Below 15K\"\n",
    "    body = f\"Price of watch is below 15K. It is {new_price} Rs.\"\n",
    "   \n",
    "    msg = f\"Subject: {subject}\\n\\n{body}\"\n",
    "    \n",
    "    server.sendmail(\n",
    "        'some@mail.com',\n",
    "        msg\n",
    "     \n",
    "    )"
   ]
  },
  {
   "cell_type": "code",
   "execution_count": 19,
   "metadata": {},
   "outputs": [
    {
     "name": "stdout",
     "output_type": "stream",
     "text": [
      "Kenneth Cole Analog Gray Dial Men's Watch-KCWGO2218502MN\n",
      "14,995\n",
      "                            \n",
      "                             .\n"
     ]
    },
    {
     "data": {
      "text/plain": [
       "14995"
      ]
     },
     "execution_count": 19,
     "metadata": {},
     "output_type": "execute_result"
    }
   ],
   "source": [
    "new_price = check_price(URL)\n",
    "new_price=re.sub(r'[^0-9]', '', new_price)\n",
    "int(new_price)"
   ]
  },
  {
   "cell_type": "code",
   "execution_count": 21,
   "metadata": {},
   "outputs": [],
   "source": [
    "# if(int(new_price)<15000):\n",
    "#     send_mail()"
   ]
  },
  {
   "cell_type": "code",
   "execution_count": null,
   "metadata": {},
   "outputs": [],
   "source": []
  }
 ],
 "metadata": {
  "kernelspec": {
   "display_name": "Python 3",
   "language": "python",
   "name": "python3"
  },
  "language_info": {
   "codemirror_mode": {
    "name": "ipython",
    "version": 3
   },
   "file_extension": ".py",
   "mimetype": "text/x-python",
   "name": "python",
   "nbconvert_exporter": "python",
   "pygments_lexer": "ipython3",
   "version": "3.10.5"
  },
  "orig_nbformat": 4
 },
 "nbformat": 4,
 "nbformat_minor": 2
}
